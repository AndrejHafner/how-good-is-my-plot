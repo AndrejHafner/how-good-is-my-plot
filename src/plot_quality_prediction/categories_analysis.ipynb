{
 "cells": [
  {
   "cell_type": "code",
   "execution_count": 147,
   "metadata": {},
   "outputs": [],
   "source": [
    "import numpy as np\n",
    "import pandas as pd\n",
    "import matplotlib.pyplot as plt\n",
    "import seaborn as sns\n"
   ]
  },
  {
   "cell_type": "code",
   "execution_count": 9,
   "metadata": {},
   "outputs": [],
   "source": [
    "# get all the data together\n",
    "\n",
    "directory = 'C:/Users/Acer/Desktop/Data science/1 letnik/Project/new/how-good-is-my-plot/src/'\n",
    "df = pd.DataFrame(columns=['first_plot','second_plot','selected','legend','colour','axes','element_sizes','readability'])\n",
    "results = ['batch_1/swiss_sys_run_1_parsed.csv', 'batch_2/swiss_sys_run_2_parsed.csv', 'batch_3/swiss_sys_run_3_parsed.csv', 'batch_4/swiss_sys_run_4_parsed.csv', 'batch_5/swiss_sys_run_5_parsed.csv', 'batch_6/swiss_sys_run_6_parsed.csv', 'batch_7/swiss_sys_run_7_parsed.csv', 'batch_8/swiss_sys_run_8_parsed.csv', 'batch_9/swiss_sys_run_9_parsed.csv']\n",
    "for res in results:\n",
    "    d = pd.read_csv(directory+res)\n",
    "    df =  pd.concat([df, d], ignore_index=True)\n"
   ]
  },
  {
   "cell_type": "code",
   "execution_count": 10,
   "metadata": {},
   "outputs": [
    {
     "data": {
      "text/html": [
       "<div>\n",
       "<style scoped>\n",
       "    .dataframe tbody tr th:only-of-type {\n",
       "        vertical-align: middle;\n",
       "    }\n",
       "\n",
       "    .dataframe tbody tr th {\n",
       "        vertical-align: top;\n",
       "    }\n",
       "\n",
       "    .dataframe thead th {\n",
       "        text-align: right;\n",
       "    }\n",
       "</style>\n",
       "<table border=\"1\" class=\"dataframe\">\n",
       "  <thead>\n",
       "    <tr style=\"text-align: right;\">\n",
       "      <th></th>\n",
       "      <th>first_plot</th>\n",
       "      <th>second_plot</th>\n",
       "      <th>selected</th>\n",
       "      <th>legend</th>\n",
       "      <th>colour</th>\n",
       "      <th>axes</th>\n",
       "      <th>element_sizes</th>\n",
       "      <th>readability</th>\n",
       "    </tr>\n",
       "  </thead>\n",
       "  <tbody>\n",
       "    <tr>\n",
       "      <th>0</th>\n",
       "      <td>99_frib_236305.jpeg</td>\n",
       "      <td>100_fmfm_3931.jpeg</td>\n",
       "      <td>100_fmfm_3931.jpeg</td>\n",
       "      <td>first</td>\n",
       "      <td>first</td>\n",
       "      <td>second</td>\n",
       "      <td>second</td>\n",
       "      <td>second</td>\n",
       "    </tr>\n",
       "    <tr>\n",
       "      <th>1</th>\n",
       "      <td>100_fmfm_4907.jpeg</td>\n",
       "      <td>100_efb_5868.jpeg</td>\n",
       "      <td>100_fmfm_4907.jpeg</td>\n",
       "      <td>second</td>\n",
       "      <td>second</td>\n",
       "      <td>first</td>\n",
       "      <td>first</td>\n",
       "      <td>first</td>\n",
       "    </tr>\n",
       "    <tr>\n",
       "      <th>2</th>\n",
       "      <td>100_efb_7308.jpeg</td>\n",
       "      <td>100_efb_7008.jpeg</td>\n",
       "      <td>100_efb_7308.jpeg</td>\n",
       "      <td>first</td>\n",
       "      <td>first</td>\n",
       "      <td>first</td>\n",
       "      <td>second</td>\n",
       "      <td>first</td>\n",
       "    </tr>\n",
       "    <tr>\n",
       "      <th>3</th>\n",
       "      <td>100_fmfb_15299.jpeg</td>\n",
       "      <td>100_efb_32864.jpeg</td>\n",
       "      <td>100_efb_32864.jpeg</td>\n",
       "      <td>NaN</td>\n",
       "      <td>NaN</td>\n",
       "      <td>second</td>\n",
       "      <td>first</td>\n",
       "      <td>second</td>\n",
       "    </tr>\n",
       "    <tr>\n",
       "      <th>4</th>\n",
       "      <td>99_frim_17604.jpeg</td>\n",
       "      <td>100_fmfp_2907.jpeg</td>\n",
       "      <td>100_fmfp_2907.jpeg</td>\n",
       "      <td>NaN</td>\n",
       "      <td>second</td>\n",
       "      <td>second</td>\n",
       "      <td>second</td>\n",
       "      <td>first</td>\n",
       "    </tr>\n",
       "    <tr>\n",
       "      <th>...</th>\n",
       "      <td>...</td>\n",
       "      <td>...</td>\n",
       "      <td>...</td>\n",
       "      <td>...</td>\n",
       "      <td>...</td>\n",
       "      <td>...</td>\n",
       "      <td>...</td>\n",
       "      <td>...</td>\n",
       "    </tr>\n",
       "    <tr>\n",
       "      <th>2245</th>\n",
       "      <td>100_fmfb_3017.jpeg</td>\n",
       "      <td>100_frim_645.jpeg</td>\n",
       "      <td>100_fmfb_3017.jpeg</td>\n",
       "      <td>first</td>\n",
       "      <td>NaN</td>\n",
       "      <td>NaN</td>\n",
       "      <td>first</td>\n",
       "      <td>first</td>\n",
       "    </tr>\n",
       "    <tr>\n",
       "      <th>2246</th>\n",
       "      <td>100_frib_70750.jpeg</td>\n",
       "      <td>100_efb_7314.jpeg</td>\n",
       "      <td>100_frib_70750.jpeg</td>\n",
       "      <td>first</td>\n",
       "      <td>first</td>\n",
       "      <td>first</td>\n",
       "      <td>first</td>\n",
       "      <td>first</td>\n",
       "    </tr>\n",
       "    <tr>\n",
       "      <th>2247</th>\n",
       "      <td>100_frib_182416.jpeg</td>\n",
       "      <td>100_frib_52246.jpeg</td>\n",
       "      <td>100_frib_182416.jpeg</td>\n",
       "      <td>first</td>\n",
       "      <td>NaN</td>\n",
       "      <td>NaN</td>\n",
       "      <td>first</td>\n",
       "      <td>first</td>\n",
       "    </tr>\n",
       "    <tr>\n",
       "      <th>2248</th>\n",
       "      <td>100_frib_199019.jpeg</td>\n",
       "      <td>100_efm_28363.jpeg</td>\n",
       "      <td>100_frib_199019.jpeg</td>\n",
       "      <td>first</td>\n",
       "      <td>NaN</td>\n",
       "      <td>first</td>\n",
       "      <td>NaN</td>\n",
       "      <td>first</td>\n",
       "    </tr>\n",
       "    <tr>\n",
       "      <th>2249</th>\n",
       "      <td>100_efm_25606.jpeg</td>\n",
       "      <td>100_frim_46617.jpeg</td>\n",
       "      <td>100_efm_25606.jpeg</td>\n",
       "      <td>first</td>\n",
       "      <td>NaN</td>\n",
       "      <td>NaN</td>\n",
       "      <td>first</td>\n",
       "      <td>first</td>\n",
       "    </tr>\n",
       "  </tbody>\n",
       "</table>\n",
       "<p>2250 rows × 8 columns</p>\n",
       "</div>"
      ],
      "text/plain": [
       "                first_plot          second_plot              selected  legend  \\\n",
       "0      99_frib_236305.jpeg   100_fmfm_3931.jpeg    100_fmfm_3931.jpeg   first   \n",
       "1       100_fmfm_4907.jpeg    100_efb_5868.jpeg    100_fmfm_4907.jpeg  second   \n",
       "2        100_efb_7308.jpeg    100_efb_7008.jpeg     100_efb_7308.jpeg   first   \n",
       "3      100_fmfb_15299.jpeg   100_efb_32864.jpeg    100_efb_32864.jpeg     NaN   \n",
       "4       99_frim_17604.jpeg   100_fmfp_2907.jpeg    100_fmfp_2907.jpeg     NaN   \n",
       "...                    ...                  ...                   ...     ...   \n",
       "2245    100_fmfb_3017.jpeg    100_frim_645.jpeg    100_fmfb_3017.jpeg   first   \n",
       "2246   100_frib_70750.jpeg    100_efb_7314.jpeg   100_frib_70750.jpeg   first   \n",
       "2247  100_frib_182416.jpeg  100_frib_52246.jpeg  100_frib_182416.jpeg   first   \n",
       "2248  100_frib_199019.jpeg   100_efm_28363.jpeg  100_frib_199019.jpeg   first   \n",
       "2249    100_efm_25606.jpeg  100_frim_46617.jpeg    100_efm_25606.jpeg   first   \n",
       "\n",
       "      colour    axes element_sizes readability  \n",
       "0      first  second        second      second  \n",
       "1     second   first         first       first  \n",
       "2      first   first        second       first  \n",
       "3        NaN  second         first      second  \n",
       "4     second  second        second       first  \n",
       "...      ...     ...           ...         ...  \n",
       "2245     NaN     NaN         first       first  \n",
       "2246   first   first         first       first  \n",
       "2247     NaN     NaN         first       first  \n",
       "2248     NaN   first           NaN       first  \n",
       "2249     NaN     NaN         first       first  \n",
       "\n",
       "[2250 rows x 8 columns]"
      ]
     },
     "execution_count": 10,
     "metadata": {},
     "output_type": "execute_result"
    }
   ],
   "source": [
    "df"
   ]
  },
  {
   "cell_type": "code",
   "execution_count": 30,
   "metadata": {},
   "outputs": [
    {
     "data": {
      "image/png": "[encoded data removed]",
      "text/plain": [
       "<Figure size 432x288 with 1 Axes>"
      ]
     },
     "metadata": {
      "needs_background": "light"
     },
     "output_type": "display_data"
    }
   ],
   "source": [
    "categories = ['legend', 'colour', 'axes', 'element_sizes', 'readability']\n",
    "counts = []\n",
    "for cat in categories:\n",
    "    counts.append(1-df[cat].isnull().sum()/2250)\n",
    "plt.bar(categories, counts)\n",
    "plt.title('Percentage of how many times categories were selected')\n",
    "plt.show()"
   ]
  },
  {
   "cell_type": "code",
   "execution_count": 33,
   "metadata": {},
   "outputs": [
    {
     "data": {
      "text/html": [
       "<div>\n",
       "<style scoped>\n",
       "    .dataframe tbody tr th:only-of-type {\n",
       "        vertical-align: middle;\n",
       "    }\n",
       "\n",
       "    .dataframe tbody tr th {\n",
       "        vertical-align: top;\n",
       "    }\n",
       "\n",
       "    .dataframe thead th {\n",
       "        text-align: right;\n",
       "    }\n",
       "</style>\n",
       "<table border=\"1\" class=\"dataframe\">\n",
       "  <thead>\n",
       "    <tr style=\"text-align: right;\">\n",
       "      <th></th>\n",
       "      <th>first_plot</th>\n",
       "      <th>second_plot</th>\n",
       "      <th>selected</th>\n",
       "      <th>legend</th>\n",
       "      <th>colour</th>\n",
       "      <th>axes</th>\n",
       "      <th>element_sizes</th>\n",
       "      <th>readability</th>\n",
       "      <th>winners</th>\n",
       "    </tr>\n",
       "  </thead>\n",
       "  <tbody>\n",
       "    <tr>\n",
       "      <th>0</th>\n",
       "      <td>99_frib_236305.jpeg</td>\n",
       "      <td>100_fmfm_3931.jpeg</td>\n",
       "      <td>100_fmfm_3931.jpeg</td>\n",
       "      <td>first</td>\n",
       "      <td>first</td>\n",
       "      <td>second</td>\n",
       "      <td>second</td>\n",
       "      <td>second</td>\n",
       "      <td>second</td>\n",
       "    </tr>\n",
       "    <tr>\n",
       "      <th>1</th>\n",
       "      <td>100_fmfm_4907.jpeg</td>\n",
       "      <td>100_efb_5868.jpeg</td>\n",
       "      <td>100_fmfm_4907.jpeg</td>\n",
       "      <td>second</td>\n",
       "      <td>second</td>\n",
       "      <td>first</td>\n",
       "      <td>first</td>\n",
       "      <td>first</td>\n",
       "      <td>first</td>\n",
       "    </tr>\n",
       "    <tr>\n",
       "      <th>2</th>\n",
       "      <td>100_efb_7308.jpeg</td>\n",
       "      <td>100_efb_7008.jpeg</td>\n",
       "      <td>100_efb_7308.jpeg</td>\n",
       "      <td>first</td>\n",
       "      <td>first</td>\n",
       "      <td>first</td>\n",
       "      <td>second</td>\n",
       "      <td>first</td>\n",
       "      <td>first</td>\n",
       "    </tr>\n",
       "    <tr>\n",
       "      <th>3</th>\n",
       "      <td>100_fmfb_15299.jpeg</td>\n",
       "      <td>100_efb_32864.jpeg</td>\n",
       "      <td>100_efb_32864.jpeg</td>\n",
       "      <td>NaN</td>\n",
       "      <td>NaN</td>\n",
       "      <td>second</td>\n",
       "      <td>first</td>\n",
       "      <td>second</td>\n",
       "      <td>second</td>\n",
       "    </tr>\n",
       "    <tr>\n",
       "      <th>4</th>\n",
       "      <td>99_frim_17604.jpeg</td>\n",
       "      <td>100_fmfp_2907.jpeg</td>\n",
       "      <td>100_fmfp_2907.jpeg</td>\n",
       "      <td>NaN</td>\n",
       "      <td>second</td>\n",
       "      <td>second</td>\n",
       "      <td>second</td>\n",
       "      <td>first</td>\n",
       "      <td>second</td>\n",
       "    </tr>\n",
       "    <tr>\n",
       "      <th>...</th>\n",
       "      <td>...</td>\n",
       "      <td>...</td>\n",
       "      <td>...</td>\n",
       "      <td>...</td>\n",
       "      <td>...</td>\n",
       "      <td>...</td>\n",
       "      <td>...</td>\n",
       "      <td>...</td>\n",
       "      <td>...</td>\n",
       "    </tr>\n",
       "    <tr>\n",
       "      <th>2245</th>\n",
       "      <td>100_fmfb_3017.jpeg</td>\n",
       "      <td>100_frim_645.jpeg</td>\n",
       "      <td>100_fmfb_3017.jpeg</td>\n",
       "      <td>first</td>\n",
       "      <td>NaN</td>\n",
       "      <td>NaN</td>\n",
       "      <td>first</td>\n",
       "      <td>first</td>\n",
       "      <td>first</td>\n",
       "    </tr>\n",
       "    <tr>\n",
       "      <th>2246</th>\n",
       "      <td>100_frib_70750.jpeg</td>\n",
       "      <td>100_efb_7314.jpeg</td>\n",
       "      <td>100_frib_70750.jpeg</td>\n",
       "      <td>first</td>\n",
       "      <td>first</td>\n",
       "      <td>first</td>\n",
       "      <td>first</td>\n",
       "      <td>first</td>\n",
       "      <td>first</td>\n",
       "    </tr>\n",
       "    <tr>\n",
       "      <th>2247</th>\n",
       "      <td>100_frib_182416.jpeg</td>\n",
       "      <td>100_frib_52246.jpeg</td>\n",
       "      <td>100_frib_182416.jpeg</td>\n",
       "      <td>first</td>\n",
       "      <td>NaN</td>\n",
       "      <td>NaN</td>\n",
       "      <td>first</td>\n",
       "      <td>first</td>\n",
       "      <td>first</td>\n",
       "    </tr>\n",
       "    <tr>\n",
       "      <th>2248</th>\n",
       "      <td>100_frib_199019.jpeg</td>\n",
       "      <td>100_efm_28363.jpeg</td>\n",
       "      <td>100_frib_199019.jpeg</td>\n",
       "      <td>first</td>\n",
       "      <td>NaN</td>\n",
       "      <td>first</td>\n",
       "      <td>NaN</td>\n",
       "      <td>first</td>\n",
       "      <td>first</td>\n",
       "    </tr>\n",
       "    <tr>\n",
       "      <th>2249</th>\n",
       "      <td>100_efm_25606.jpeg</td>\n",
       "      <td>100_frim_46617.jpeg</td>\n",
       "      <td>100_efm_25606.jpeg</td>\n",
       "      <td>first</td>\n",
       "      <td>NaN</td>\n",
       "      <td>NaN</td>\n",
       "      <td>first</td>\n",
       "      <td>first</td>\n",
       "      <td>first</td>\n",
       "    </tr>\n",
       "  </tbody>\n",
       "</table>\n",
       "<p>2250 rows × 9 columns</p>\n",
       "</div>"
      ],
      "text/plain": [
       "                first_plot          second_plot              selected  legend  \\\n",
       "0      99_frib_236305.jpeg   100_fmfm_3931.jpeg    100_fmfm_3931.jpeg   first   \n",
       "1       100_fmfm_4907.jpeg    100_efb_5868.jpeg    100_fmfm_4907.jpeg  second   \n",
       "2        100_efb_7308.jpeg    100_efb_7008.jpeg     100_efb_7308.jpeg   first   \n",
       "3      100_fmfb_15299.jpeg   100_efb_32864.jpeg    100_efb_32864.jpeg     NaN   \n",
       "4       99_frim_17604.jpeg   100_fmfp_2907.jpeg    100_fmfp_2907.jpeg     NaN   \n",
       "...                    ...                  ...                   ...     ...   \n",
       "2245    100_fmfb_3017.jpeg    100_frim_645.jpeg    100_fmfb_3017.jpeg   first   \n",
       "2246   100_frib_70750.jpeg    100_efb_7314.jpeg   100_frib_70750.jpeg   first   \n",
       "2247  100_frib_182416.jpeg  100_frib_52246.jpeg  100_frib_182416.jpeg   first   \n",
       "2248  100_frib_199019.jpeg   100_efm_28363.jpeg  100_frib_199019.jpeg   first   \n",
       "2249    100_efm_25606.jpeg  100_frim_46617.jpeg    100_efm_25606.jpeg   first   \n",
       "\n",
       "      colour    axes element_sizes readability winners  \n",
       "0      first  second        second      second  second  \n",
       "1     second   first         first       first   first  \n",
       "2      first   first        second       first   first  \n",
       "3        NaN  second         first      second  second  \n",
       "4     second  second        second       first  second  \n",
       "...      ...     ...           ...         ...     ...  \n",
       "2245     NaN     NaN         first       first   first  \n",
       "2246   first   first         first       first   first  \n",
       "2247     NaN     NaN         first       first   first  \n",
       "2248     NaN   first           NaN       first   first  \n",
       "2249     NaN     NaN         first       first   first  \n",
       "\n",
       "[2250 rows x 9 columns]"
      ]
     },
     "execution_count": 33,
     "metadata": {},
     "output_type": "execute_result"
    }
   ],
   "source": [
    "# add column of winners as first/second\n",
    "winners = []\n",
    "for index, row in df.iterrows():\n",
    "    selected = int(row['second_plot'] == row['selected'])\n",
    "    if selected == 0:\n",
    "        winners.append('first')\n",
    "    else:\n",
    "        winners.append('second')\n",
    "df['winners'] = pd.Series(winners, index=df.index)\n",
    "df"
   ]
  },
  {
   "cell_type": "code",
   "execution_count": 226,
   "metadata": {},
   "outputs": [
    {
     "data": {
      "image/png": "[encoded data removed]",
      "text/plain": [
       "<Figure size 432x288 with 1 Axes>"
      ]
     },
     "metadata": {
      "needs_background": "light"
     },
     "output_type": "display_data"
    }
   ],
   "source": [
    "winner_cat_count = []\n",
    "win_row = df['winners']\n",
    "for cat in categories:\n",
    "    cat_row = df[cat]\n",
    "    count = 0\n",
    "    for i in range(2250):\n",
    "        count += int((win_row[i] == cat_row[i]) and (not pd.isnull(cat_row[i])))\n",
    "    winner_cat_count.append(count)\n",
    "\n",
    "plt.bar(categories, winner_cat_count)\n",
    "plt.title('How many times each category was selected for winner plot')\n",
    "plt.show()\n",
    "    "
   ]
  },
  {
   "cell_type": "code",
   "execution_count": 225,
   "metadata": {},
   "outputs": [
    {
     "data": {
      "image/png": "[encoded data removed]",
      "text/plain": [
       "<Figure size 432x288 with 1 Axes>"
      ]
     },
     "metadata": {
      "needs_background": "light"
     },
     "output_type": "display_data"
    }
   ],
   "source": [
    "loser_cat_count = []\n",
    "win_row = df['winners']\n",
    "for cat in categories:\n",
    "    cat_row = df[cat]\n",
    "    count = 0\n",
    "    for i in range(2250):\n",
    "        count += int((win_row[i] != cat_row[i]) and (not pd.isnull(cat_row[i])) )\n",
    "    loser_cat_count.append(count)\n",
    "\n",
    "plt.bar(categories, loser_cat_count)\n",
    "plt.title('How many times each category was selected for loser plot')\n",
    "plt.show()"
   ]
  },
  {
   "cell_type": "code",
   "execution_count": 227,
   "metadata": {},
   "outputs": [
    {
     "data": {
      "text/plain": [
       "<AxesSubplot:>"
      ]
     },
     "execution_count": 227,
     "metadata": {},
     "output_type": "execute_result"
    },
    {
     "data": {
      "image/png": "[encoded data removed]",
      "text/plain": [
       "<Figure size 432x288 with 1 Axes>"
      ]
     },
     "metadata": {
      "needs_background": "light"
     },
     "output_type": "display_data"
    }
   ],
   "source": [
    "df_cat_count = pd.DataFrame(columns=categories)\n",
    "df_cat_count.loc[0] = winner_cat_count\n",
    "df_cat_count.loc[1] = loser_cat_count\n",
    "\n",
    "df_cat_count = df_cat_count.transpose()\n",
    "df_cat_count.columns=['winners', 'losers']\n",
    "\n",
    "df_cat_count.plot(kind='bar')"
   ]
  },
  {
   "cell_type": "code",
   "execution_count": 264,
   "metadata": {},
   "outputs": [],
   "source": [
    "df_num = df[categories+['winners']]\n",
    "df_num = df_num.applymap(lambda x: -1 if x == 'first' else (1 if x == 'second' else 0))"
   ]
  },
  {
   "cell_type": "code",
   "execution_count": 389,
   "metadata": {},
   "outputs": [
    {
     "data": {
      "text/plain": [
       "[0.3922047496389462,\n",
       " 0.3078052083190671,\n",
       " 0.35305708777880457,\n",
       " 0.2765810734535024,\n",
       " 0.44553864484565797]"
      ]
     },
     "execution_count": 389,
     "metadata": {},
     "output_type": "execute_result"
    }
   ],
   "source": [
    "# correlations between categories and winer\n",
    "corr_with_winners = []\n",
    "for cat in categories:\n",
    "    cor = df_num['winners'].corr(df_num[cat])\n",
    "    corr_with_winners.append(cor)\n",
    "corr_with_winners"
   ]
  },
  {
   "cell_type": "code",
   "execution_count": 266,
   "metadata": {},
   "outputs": [
    {
     "data": {
      "text/plain": [
       "Text(0.5, 1.0, 'Correlations with winners')"
      ]
     },
     "execution_count": 266,
     "metadata": {},
     "output_type": "execute_result"
    },
    {
     "data": {
      "image/png": "[encoded data removed]",
      "text/plain": [
       "<Figure size 432x288 with 1 Axes>"
      ]
     },
     "metadata": {
      "needs_background": "light"
     },
     "output_type": "display_data"
    }
   ],
   "source": [
    "plt.bar(categories, corr_with_winners)\n",
    "plt.title('Correlations with winners')"
   ]
  },
  {
   "cell_type": "code",
   "execution_count": 267,
   "metadata": {},
   "outputs": [
    {
     "data": {
      "image/png": "[encoded data removed]",
      "text/plain": [
       "<Figure size 432x288 with 1 Axes>"
      ]
     },
     "metadata": {
      "needs_background": "light"
     },
     "output_type": "display_data"
    }
   ],
   "source": [
    "df_cat_count.plot(kind='bar')\n",
    "for i, cat in enumerate(categories):\n",
    "    plt.annotate(round(corr_with_winners[i],2), (i, 1000),fontsize=15)"
   ]
  },
  {
   "cell_type": "code",
   "execution_count": 268,
   "metadata": {},
   "outputs": [
    {
     "data": {
      "text/html": [
       "<div>\n",
       "<style scoped>\n",
       "    .dataframe tbody tr th:only-of-type {\n",
       "        vertical-align: middle;\n",
       "    }\n",
       "\n",
       "    .dataframe tbody tr th {\n",
       "        vertical-align: top;\n",
       "    }\n",
       "\n",
       "    .dataframe thead th {\n",
       "        text-align: right;\n",
       "    }\n",
       "</style>\n",
       "<table border=\"1\" class=\"dataframe\">\n",
       "  <thead>\n",
       "    <tr style=\"text-align: right;\">\n",
       "      <th></th>\n",
       "      <th>legend</th>\n",
       "      <th>colour</th>\n",
       "      <th>axes</th>\n",
       "      <th>element_sizes</th>\n",
       "      <th>readability</th>\n",
       "      <th>winners</th>\n",
       "      <th>points</th>\n",
       "    </tr>\n",
       "  </thead>\n",
       "  <tbody>\n",
       "    <tr>\n",
       "      <th>0</th>\n",
       "      <td>-1</td>\n",
       "      <td>-1</td>\n",
       "      <td>1</td>\n",
       "      <td>1</td>\n",
       "      <td>1</td>\n",
       "      <td>1</td>\n",
       "      <td>5</td>\n",
       "    </tr>\n",
       "    <tr>\n",
       "      <th>1</th>\n",
       "      <td>1</td>\n",
       "      <td>1</td>\n",
       "      <td>-1</td>\n",
       "      <td>-1</td>\n",
       "      <td>-1</td>\n",
       "      <td>-1</td>\n",
       "      <td>5</td>\n",
       "    </tr>\n",
       "    <tr>\n",
       "      <th>2</th>\n",
       "      <td>-1</td>\n",
       "      <td>-1</td>\n",
       "      <td>-1</td>\n",
       "      <td>1</td>\n",
       "      <td>-1</td>\n",
       "      <td>-1</td>\n",
       "      <td>5</td>\n",
       "    </tr>\n",
       "    <tr>\n",
       "      <th>3</th>\n",
       "      <td>0</td>\n",
       "      <td>0</td>\n",
       "      <td>1</td>\n",
       "      <td>-1</td>\n",
       "      <td>1</td>\n",
       "      <td>1</td>\n",
       "      <td>3</td>\n",
       "    </tr>\n",
       "    <tr>\n",
       "      <th>4</th>\n",
       "      <td>0</td>\n",
       "      <td>1</td>\n",
       "      <td>1</td>\n",
       "      <td>1</td>\n",
       "      <td>-1</td>\n",
       "      <td>1</td>\n",
       "      <td>4</td>\n",
       "    </tr>\n",
       "    <tr>\n",
       "      <th>...</th>\n",
       "      <td>...</td>\n",
       "      <td>...</td>\n",
       "      <td>...</td>\n",
       "      <td>...</td>\n",
       "      <td>...</td>\n",
       "      <td>...</td>\n",
       "      <td>...</td>\n",
       "    </tr>\n",
       "    <tr>\n",
       "      <th>2245</th>\n",
       "      <td>-1</td>\n",
       "      <td>0</td>\n",
       "      <td>0</td>\n",
       "      <td>-1</td>\n",
       "      <td>-1</td>\n",
       "      <td>-1</td>\n",
       "      <td>3</td>\n",
       "    </tr>\n",
       "    <tr>\n",
       "      <th>2246</th>\n",
       "      <td>-1</td>\n",
       "      <td>-1</td>\n",
       "      <td>-1</td>\n",
       "      <td>-1</td>\n",
       "      <td>-1</td>\n",
       "      <td>-1</td>\n",
       "      <td>5</td>\n",
       "    </tr>\n",
       "    <tr>\n",
       "      <th>2247</th>\n",
       "      <td>-1</td>\n",
       "      <td>0</td>\n",
       "      <td>0</td>\n",
       "      <td>-1</td>\n",
       "      <td>-1</td>\n",
       "      <td>-1</td>\n",
       "      <td>3</td>\n",
       "    </tr>\n",
       "    <tr>\n",
       "      <th>2248</th>\n",
       "      <td>-1</td>\n",
       "      <td>0</td>\n",
       "      <td>-1</td>\n",
       "      <td>0</td>\n",
       "      <td>-1</td>\n",
       "      <td>-1</td>\n",
       "      <td>3</td>\n",
       "    </tr>\n",
       "    <tr>\n",
       "      <th>2249</th>\n",
       "      <td>-1</td>\n",
       "      <td>0</td>\n",
       "      <td>0</td>\n",
       "      <td>-1</td>\n",
       "      <td>-1</td>\n",
       "      <td>-1</td>\n",
       "      <td>3</td>\n",
       "    </tr>\n",
       "  </tbody>\n",
       "</table>\n",
       "<p>2250 rows × 7 columns</p>\n",
       "</div>"
      ],
      "text/plain": [
       "      legend  colour  axes  element_sizes  readability  winners  points\n",
       "0         -1      -1     1              1            1        1       5\n",
       "1          1       1    -1             -1           -1       -1       5\n",
       "2         -1      -1    -1              1           -1       -1       5\n",
       "3          0       0     1             -1            1        1       3\n",
       "4          0       1     1              1           -1        1       4\n",
       "...      ...     ...   ...            ...          ...      ...     ...\n",
       "2245      -1       0     0             -1           -1       -1       3\n",
       "2246      -1      -1    -1             -1           -1       -1       5\n",
       "2247      -1       0     0             -1           -1       -1       3\n",
       "2248      -1       0    -1              0           -1       -1       3\n",
       "2249      -1       0     0             -1           -1       -1       3\n",
       "\n",
       "[2250 rows x 7 columns]"
      ]
     },
     "execution_count": 268,
     "metadata": {},
     "output_type": "execute_result"
    }
   ],
   "source": [
    "# normalize the points in each row\n",
    "points = []\n",
    "for i, row in df_num.iterrows():\n",
    "    points.append(sum(abs(row[categories])))\n",
    "df_num['points'] = points\n",
    "df_num"
   ]
  },
  {
   "cell_type": "code",
   "execution_count": 269,
   "metadata": {},
   "outputs": [
    {
     "data": {
      "text/html": [
       "<div>\n",
       "<style scoped>\n",
       "    .dataframe tbody tr th:only-of-type {\n",
       "        vertical-align: middle;\n",
       "    }\n",
       "\n",
       "    .dataframe tbody tr th {\n",
       "        vertical-align: top;\n",
       "    }\n",
       "\n",
       "    .dataframe thead th {\n",
       "        text-align: right;\n",
       "    }\n",
       "</style>\n",
       "<table border=\"1\" class=\"dataframe\">\n",
       "  <thead>\n",
       "    <tr style=\"text-align: right;\">\n",
       "      <th></th>\n",
       "      <th>legend</th>\n",
       "      <th>colour</th>\n",
       "      <th>axes</th>\n",
       "      <th>element_sizes</th>\n",
       "      <th>readability</th>\n",
       "      <th>winners</th>\n",
       "      <th>points</th>\n",
       "    </tr>\n",
       "  </thead>\n",
       "  <tbody>\n",
       "    <tr>\n",
       "      <th>0</th>\n",
       "      <td>-0.200000</td>\n",
       "      <td>-0.20</td>\n",
       "      <td>0.200000</td>\n",
       "      <td>0.200000</td>\n",
       "      <td>0.200000</td>\n",
       "      <td>1</td>\n",
       "      <td>5</td>\n",
       "    </tr>\n",
       "    <tr>\n",
       "      <th>1</th>\n",
       "      <td>0.200000</td>\n",
       "      <td>0.20</td>\n",
       "      <td>-0.200000</td>\n",
       "      <td>-0.200000</td>\n",
       "      <td>-0.200000</td>\n",
       "      <td>-1</td>\n",
       "      <td>5</td>\n",
       "    </tr>\n",
       "    <tr>\n",
       "      <th>2</th>\n",
       "      <td>-0.200000</td>\n",
       "      <td>-0.20</td>\n",
       "      <td>-0.200000</td>\n",
       "      <td>0.200000</td>\n",
       "      <td>-0.200000</td>\n",
       "      <td>-1</td>\n",
       "      <td>5</td>\n",
       "    </tr>\n",
       "    <tr>\n",
       "      <th>3</th>\n",
       "      <td>0.000000</td>\n",
       "      <td>0.00</td>\n",
       "      <td>0.333333</td>\n",
       "      <td>-0.333333</td>\n",
       "      <td>0.333333</td>\n",
       "      <td>1</td>\n",
       "      <td>3</td>\n",
       "    </tr>\n",
       "    <tr>\n",
       "      <th>4</th>\n",
       "      <td>0.000000</td>\n",
       "      <td>0.25</td>\n",
       "      <td>0.250000</td>\n",
       "      <td>0.250000</td>\n",
       "      <td>-0.250000</td>\n",
       "      <td>1</td>\n",
       "      <td>4</td>\n",
       "    </tr>\n",
       "    <tr>\n",
       "      <th>...</th>\n",
       "      <td>...</td>\n",
       "      <td>...</td>\n",
       "      <td>...</td>\n",
       "      <td>...</td>\n",
       "      <td>...</td>\n",
       "      <td>...</td>\n",
       "      <td>...</td>\n",
       "    </tr>\n",
       "    <tr>\n",
       "      <th>2245</th>\n",
       "      <td>-0.333333</td>\n",
       "      <td>0.00</td>\n",
       "      <td>0.000000</td>\n",
       "      <td>-0.333333</td>\n",
       "      <td>-0.333333</td>\n",
       "      <td>-1</td>\n",
       "      <td>3</td>\n",
       "    </tr>\n",
       "    <tr>\n",
       "      <th>2246</th>\n",
       "      <td>-0.200000</td>\n",
       "      <td>-0.20</td>\n",
       "      <td>-0.200000</td>\n",
       "      <td>-0.200000</td>\n",
       "      <td>-0.200000</td>\n",
       "      <td>-1</td>\n",
       "      <td>5</td>\n",
       "    </tr>\n",
       "    <tr>\n",
       "      <th>2247</th>\n",
       "      <td>-0.333333</td>\n",
       "      <td>0.00</td>\n",
       "      <td>0.000000</td>\n",
       "      <td>-0.333333</td>\n",
       "      <td>-0.333333</td>\n",
       "      <td>-1</td>\n",
       "      <td>3</td>\n",
       "    </tr>\n",
       "    <tr>\n",
       "      <th>2248</th>\n",
       "      <td>-0.333333</td>\n",
       "      <td>0.00</td>\n",
       "      <td>-0.333333</td>\n",
       "      <td>0.000000</td>\n",
       "      <td>-0.333333</td>\n",
       "      <td>-1</td>\n",
       "      <td>3</td>\n",
       "    </tr>\n",
       "    <tr>\n",
       "      <th>2249</th>\n",
       "      <td>-0.333333</td>\n",
       "      <td>0.00</td>\n",
       "      <td>0.000000</td>\n",
       "      <td>-0.333333</td>\n",
       "      <td>-0.333333</td>\n",
       "      <td>-1</td>\n",
       "      <td>3</td>\n",
       "    </tr>\n",
       "  </tbody>\n",
       "</table>\n",
       "<p>2250 rows × 7 columns</p>\n",
       "</div>"
      ],
      "text/plain": [
       "        legend  colour      axes  element_sizes  readability  winners  points\n",
       "0    -0.200000   -0.20  0.200000       0.200000     0.200000        1       5\n",
       "1     0.200000    0.20 -0.200000      -0.200000    -0.200000       -1       5\n",
       "2    -0.200000   -0.20 -0.200000       0.200000    -0.200000       -1       5\n",
       "3     0.000000    0.00  0.333333      -0.333333     0.333333        1       3\n",
       "4     0.000000    0.25  0.250000       0.250000    -0.250000        1       4\n",
       "...        ...     ...       ...            ...          ...      ...     ...\n",
       "2245 -0.333333    0.00  0.000000      -0.333333    -0.333333       -1       3\n",
       "2246 -0.200000   -0.20 -0.200000      -0.200000    -0.200000       -1       5\n",
       "2247 -0.333333    0.00  0.000000      -0.333333    -0.333333       -1       3\n",
       "2248 -0.333333    0.00 -0.333333       0.000000    -0.333333       -1       3\n",
       "2249 -0.333333    0.00  0.000000      -0.333333    -0.333333       -1       3\n",
       "\n",
       "[2250 rows x 7 columns]"
      ]
     },
     "execution_count": 269,
     "metadata": {},
     "output_type": "execute_result"
    }
   ],
   "source": [
    "dft = df_num\n",
    "for i, row in dft.iterrows():\n",
    "    new = []\n",
    "    for cat in categories:\n",
    "        val = int(row[cat])\n",
    "        new.append(val/row['points'])\n",
    "    new.append(row['winners'])\n",
    "    new.append(row['points'])\n",
    "    dft.iloc[i] = new\n",
    "dft"
   ]
  },
  {
   "cell_type": "markdown",
   "metadata": {},
   "source": [
    "SAME ANALISIS JUST WITH NORMALIZED POINTS"
   ]
  },
  {
   "cell_type": "code",
   "execution_count": 270,
   "metadata": {},
   "outputs": [
    {
     "data": {
      "image/png": "[encoded data removed]",
      "text/plain": [
       "<Figure size 432x288 with 1 Axes>"
      ]
     },
     "metadata": {
      "needs_background": "light"
     },
     "output_type": "display_data"
    }
   ],
   "source": [
    "winner_cat_count = []\n",
    "win_row = dft['winners']\n",
    "for cat in categories:\n",
    "    cat_row = dft[cat]\n",
    "    count = 0\n",
    "    for i in range(2250):\n",
    "        if win_row[i] > 0 and cat_row[i] > 0:\n",
    "            count += cat_row[i]\n",
    "        elif win_row[i] < 0 and cat_row[i] < 0:\n",
    "            count += abs(cat_row[i])\n",
    "    winner_cat_count.append(count)\n",
    "\n",
    "plt.bar(categories, winner_cat_count)\n",
    "plt.title('How many times each category was selected for winner plot')\n",
    "plt.show()"
   ]
  },
  {
   "cell_type": "code",
   "execution_count": 271,
   "metadata": {},
   "outputs": [
    {
     "data": {
      "image/png": "[encoded data removed]",
      "text/plain": [
       "<Figure size 432x288 with 1 Axes>"
      ]
     },
     "metadata": {
      "needs_background": "light"
     },
     "output_type": "display_data"
    }
   ],
   "source": [
    "loser_cat_count = []\n",
    "win_row = dft['winners']\n",
    "for cat in categories:\n",
    "    cat_row = dft[cat]\n",
    "    count = 0\n",
    "    for i in range(2250):\n",
    "        if win_row[i] < 0 and cat_row[i] > 0:\n",
    "            count += cat_row[i]\n",
    "        elif win_row[i] > 0 and cat_row[i] < 0:\n",
    "            count += abs(cat_row[i])\n",
    "    loser_cat_count.append(count)\n",
    "\n",
    "plt.bar(categories, loser_cat_count)\n",
    "plt.title('How many times each category was selected for loser plot')\n",
    "plt.show()"
   ]
  },
  {
   "cell_type": "code",
   "execution_count": 338,
   "metadata": {},
   "outputs": [
    {
     "data": {
      "text/plain": [
       "<AxesSubplot:>"
      ]
     },
     "execution_count": 338,
     "metadata": {},
     "output_type": "execute_result"
    },
    {
     "data": {
      "image/png": "[encoded data removed]",
      "text/plain": [
       "<Figure size 432x288 with 1 Axes>"
      ]
     },
     "metadata": {
      "needs_background": "light"
     },
     "output_type": "display_data"
    }
   ],
   "source": [
    "df_cat_count = pd.DataFrame(columns=categories)\n",
    "df_cat_count.loc[0] = winner_cat_count\n",
    "df_cat_count.loc[1] = loser_cat_count\n",
    "\n",
    "df_cat_count = df_cat_count.rename(columns={'element_sizes':'el_sizing'})\n",
    "\n",
    "df_cat_count = df_cat_count.transpose()\n",
    "df_cat_count.columns=['winners', 'losers']\n",
    "\n",
    "df_cat_count.plot(kind='bar')"
   ]
  },
  {
   "cell_type": "code",
   "execution_count": 339,
   "metadata": {},
   "outputs": [
    {
     "data": {
      "text/plain": [
       "[0.3922047496389462,\n",
       " 0.3078052083190671,\n",
       " 0.35305708777880457,\n",
       " 0.2765810734535024,\n",
       " 0.44553864484565797]"
      ]
     },
     "execution_count": 339,
     "metadata": {},
     "output_type": "execute_result"
    }
   ],
   "source": [
    "corr_with_winners = []\n",
    "for cat in categories:\n",
    "    cor = dft['winners'].corr(dft[cat])\n",
    "    corr_with_winners.append(cor)\n",
    "corr_with_winners"
   ]
  },
  {
   "cell_type": "code",
   "execution_count": 390,
   "metadata": {},
   "outputs": [
    {
     "data": {
      "text/html": [
       "<div>\n",
       "<style scoped>\n",
       "    .dataframe tbody tr th:only-of-type {\n",
       "        vertical-align: middle;\n",
       "    }\n",
       "\n",
       "    .dataframe tbody tr th {\n",
       "        vertical-align: top;\n",
       "    }\n",
       "\n",
       "    .dataframe thead th {\n",
       "        text-align: right;\n",
       "    }\n",
       "</style>\n",
       "<table border=\"1\" class=\"dataframe\">\n",
       "  <thead>\n",
       "    <tr style=\"text-align: right;\">\n",
       "      <th></th>\n",
       "      <th>legend</th>\n",
       "      <th>colour</th>\n",
       "      <th>axes</th>\n",
       "      <th>element_sizes</th>\n",
       "      <th>readability</th>\n",
       "    </tr>\n",
       "  </thead>\n",
       "  <tbody>\n",
       "    <tr>\n",
       "      <th>legend</th>\n",
       "      <td>1.000000</td>\n",
       "      <td>0.067207</td>\n",
       "      <td>0.177962</td>\n",
       "      <td>0.142127</td>\n",
       "      <td>0.230197</td>\n",
       "    </tr>\n",
       "    <tr>\n",
       "      <th>colour</th>\n",
       "      <td>0.067207</td>\n",
       "      <td>1.000000</td>\n",
       "      <td>-0.029137</td>\n",
       "      <td>0.061506</td>\n",
       "      <td>0.171806</td>\n",
       "    </tr>\n",
       "    <tr>\n",
       "      <th>axes</th>\n",
       "      <td>0.177962</td>\n",
       "      <td>-0.029137</td>\n",
       "      <td>1.000000</td>\n",
       "      <td>-0.009508</td>\n",
       "      <td>0.175550</td>\n",
       "    </tr>\n",
       "    <tr>\n",
       "      <th>element_sizes</th>\n",
       "      <td>0.142127</td>\n",
       "      <td>0.061506</td>\n",
       "      <td>-0.009508</td>\n",
       "      <td>1.000000</td>\n",
       "      <td>0.157839</td>\n",
       "    </tr>\n",
       "    <tr>\n",
       "      <th>readability</th>\n",
       "      <td>0.230197</td>\n",
       "      <td>0.171806</td>\n",
       "      <td>0.175550</td>\n",
       "      <td>0.157839</td>\n",
       "      <td>1.000000</td>\n",
       "    </tr>\n",
       "  </tbody>\n",
       "</table>\n",
       "</div>"
      ],
      "text/plain": [
       "                 legend    colour      axes  element_sizes  readability\n",
       "legend         1.000000  0.067207  0.177962       0.142127     0.230197\n",
       "colour         0.067207  1.000000 -0.029137       0.061506     0.171806\n",
       "axes           0.177962 -0.029137  1.000000      -0.009508     0.175550\n",
       "element_sizes  0.142127  0.061506 -0.009508       1.000000     0.157839\n",
       "readability    0.230197  0.171806  0.175550       0.157839     1.000000"
      ]
     },
     "execution_count": 390,
     "metadata": {},
     "output_type": "execute_result"
    }
   ],
   "source": [
    "# correlations between categories\n",
    "dft[categories].corr()"
   ]
  },
  {
   "cell_type": "code",
   "execution_count": 340,
   "metadata": {},
   "outputs": [
    {
     "data": {
      "text/html": [
       "<div>\n",
       "<style scoped>\n",
       "    .dataframe tbody tr th:only-of-type {\n",
       "        vertical-align: middle;\n",
       "    }\n",
       "\n",
       "    .dataframe tbody tr th {\n",
       "        vertical-align: top;\n",
       "    }\n",
       "\n",
       "    .dataframe thead th {\n",
       "        text-align: right;\n",
       "    }\n",
       "</style>\n",
       "<table border=\"1\" class=\"dataframe\">\n",
       "  <thead>\n",
       "    <tr style=\"text-align: right;\">\n",
       "      <th></th>\n",
       "      <th>winners</th>\n",
       "      <th>losers</th>\n",
       "    </tr>\n",
       "  </thead>\n",
       "  <tbody>\n",
       "    <tr>\n",
       "      <th>readability</th>\n",
       "      <td>368.766667</td>\n",
       "      <td>99.516667</td>\n",
       "    </tr>\n",
       "    <tr>\n",
       "      <th>legend</th>\n",
       "      <td>297.900000</td>\n",
       "      <td>98.133333</td>\n",
       "    </tr>\n",
       "    <tr>\n",
       "      <th>axes</th>\n",
       "      <td>331.733333</td>\n",
       "      <td>128.133333</td>\n",
       "    </tr>\n",
       "    <tr>\n",
       "      <th>colour</th>\n",
       "      <td>321.316667</td>\n",
       "      <td>143.133333</td>\n",
       "    </tr>\n",
       "    <tr>\n",
       "      <th>el_sizing</th>\n",
       "      <td>309.083333</td>\n",
       "      <td>152.283333</td>\n",
       "    </tr>\n",
       "  </tbody>\n",
       "</table>\n",
       "</div>"
      ],
      "text/plain": [
       "                winners      losers\n",
       "readability  368.766667   99.516667\n",
       "legend       297.900000   98.133333\n",
       "axes         331.733333  128.133333\n",
       "colour       321.316667  143.133333\n",
       "el_sizing    309.083333  152.283333"
      ]
     },
     "execution_count": 340,
     "metadata": {},
     "output_type": "execute_result"
    }
   ],
   "source": [
    "# dort the data by correlation\n",
    "df_cat_count['corr'] = corr_with_winners\n",
    "df_cat_count = df_cat_count.sort_values(by=['corr'], ascending=False)\n",
    "df_cat_count = df_cat_count.drop(columns=['corr'])\n",
    "df_cat_count"
   ]
  },
  {
   "cell_type": "code",
   "execution_count": 385,
   "metadata": {},
   "outputs": [
    {
     "data": {
      "image/png": "[encoded data removed]",
      "text/plain": [
       "<Figure size 576x360 with 1 Axes>"
      ]
     },
     "metadata": {
      "needs_background": "light"
     },
     "output_type": "display_data"
    }
   ],
   "source": [
    "df_cat_count.plot(kind='bar',rot=0, ylim=(0,400), figsize=(8,5))\n",
    "height = [375,305,337,328,315]\n",
    "corr_with_winners.sort(reverse=True)\n",
    "for i, cat in enumerate(categories):\n",
    "    plt.annotate(round(corr_with_winners[i],2), (i-0.3, height[i]),fontsize=15)\n",
    "plt.xlabel('Categories', size=15)\n",
    "plt.ylabel('Points', size = 15)\n",
    "plt.savefig('categories.png')\n",
    "plt.show()"
   ]
  },
  {
   "cell_type": "code",
   "execution_count": 391,
   "metadata": {},
   "outputs": [
    {
     "data": {
      "text/plain": [
       "273"
      ]
     },
     "execution_count": 391,
     "metadata": {},
     "output_type": "execute_result"
    }
   ],
   "source": [
    "# calculate the number of lucky winners - where plot won but had less than half categories selected\n",
    "df_lw = pd.DataFrame(columns = df_num.columns)\n",
    "lucky_winners = 0\n",
    "for i, row in df_num.iterrows():\n",
    "    count_pos = 0\n",
    "    for cat in categories:\n",
    "        #print(row[cat].astype(str).astype(int))\n",
    "        if float(row[cat]) > 0 and row['winners'] > 0:\n",
    "            #print('.')\n",
    "            count_pos +=1\n",
    "        elif float(row[cat]) < 0 and row['winners'] < 0:\n",
    "            #print('.')\n",
    "            count_pos +=1\n",
    "    if count_pos < row['points']/2:\n",
    "        lucky_winners+=1\n",
    "        df_lw = df_lw.append(row)\n",
    "lucky_winners"
   ]
  },
  {
   "cell_type": "code",
   "execution_count": 283,
   "metadata": {},
   "outputs": [
    {
     "data": {
      "text/html": [
       "<div>\n",
       "<style scoped>\n",
       "    .dataframe tbody tr th:only-of-type {\n",
       "        vertical-align: middle;\n",
       "    }\n",
       "\n",
       "    .dataframe tbody tr th {\n",
       "        vertical-align: top;\n",
       "    }\n",
       "\n",
       "    .dataframe thead th {\n",
       "        text-align: right;\n",
       "    }\n",
       "</style>\n",
       "<table border=\"1\" class=\"dataframe\">\n",
       "  <thead>\n",
       "    <tr style=\"text-align: right;\">\n",
       "      <th></th>\n",
       "      <th>legend</th>\n",
       "      <th>colour</th>\n",
       "      <th>axes</th>\n",
       "      <th>element_sizes</th>\n",
       "      <th>readability</th>\n",
       "      <th>winners</th>\n",
       "      <th>points</th>\n",
       "    </tr>\n",
       "  </thead>\n",
       "  <tbody>\n",
       "    <tr>\n",
       "      <th>16</th>\n",
       "      <td>0.200000</td>\n",
       "      <td>0.200000</td>\n",
       "      <td>-0.200000</td>\n",
       "      <td>-0.200000</td>\n",
       "      <td>-0.200000</td>\n",
       "      <td>1.0</td>\n",
       "      <td>5.0</td>\n",
       "    </tr>\n",
       "    <tr>\n",
       "      <th>18</th>\n",
       "      <td>0.200000</td>\n",
       "      <td>0.200000</td>\n",
       "      <td>-0.200000</td>\n",
       "      <td>-0.200000</td>\n",
       "      <td>-0.200000</td>\n",
       "      <td>1.0</td>\n",
       "      <td>5.0</td>\n",
       "    </tr>\n",
       "    <tr>\n",
       "      <th>55</th>\n",
       "      <td>-0.333333</td>\n",
       "      <td>0.000000</td>\n",
       "      <td>-0.333333</td>\n",
       "      <td>0.333333</td>\n",
       "      <td>0.000000</td>\n",
       "      <td>1.0</td>\n",
       "      <td>3.0</td>\n",
       "    </tr>\n",
       "    <tr>\n",
       "      <th>57</th>\n",
       "      <td>-0.333333</td>\n",
       "      <td>0.000000</td>\n",
       "      <td>0.333333</td>\n",
       "      <td>0.333333</td>\n",
       "      <td>0.000000</td>\n",
       "      <td>-1.0</td>\n",
       "      <td>3.0</td>\n",
       "    </tr>\n",
       "    <tr>\n",
       "      <th>76</th>\n",
       "      <td>0.000000</td>\n",
       "      <td>0.000000</td>\n",
       "      <td>0.000000</td>\n",
       "      <td>-1.000000</td>\n",
       "      <td>0.000000</td>\n",
       "      <td>1.0</td>\n",
       "      <td>1.0</td>\n",
       "    </tr>\n",
       "    <tr>\n",
       "      <th>...</th>\n",
       "      <td>...</td>\n",
       "      <td>...</td>\n",
       "      <td>...</td>\n",
       "      <td>...</td>\n",
       "      <td>...</td>\n",
       "      <td>...</td>\n",
       "      <td>...</td>\n",
       "    </tr>\n",
       "    <tr>\n",
       "      <th>2195</th>\n",
       "      <td>-0.200000</td>\n",
       "      <td>0.200000</td>\n",
       "      <td>-0.200000</td>\n",
       "      <td>0.200000</td>\n",
       "      <td>0.200000</td>\n",
       "      <td>-1.0</td>\n",
       "      <td>5.0</td>\n",
       "    </tr>\n",
       "    <tr>\n",
       "      <th>2204</th>\n",
       "      <td>-0.333333</td>\n",
       "      <td>0.000000</td>\n",
       "      <td>-0.333333</td>\n",
       "      <td>0.000000</td>\n",
       "      <td>-0.333333</td>\n",
       "      <td>1.0</td>\n",
       "      <td>3.0</td>\n",
       "    </tr>\n",
       "    <tr>\n",
       "      <th>2207</th>\n",
       "      <td>0.000000</td>\n",
       "      <td>-0.333333</td>\n",
       "      <td>-0.333333</td>\n",
       "      <td>0.000000</td>\n",
       "      <td>-0.333333</td>\n",
       "      <td>1.0</td>\n",
       "      <td>3.0</td>\n",
       "    </tr>\n",
       "    <tr>\n",
       "      <th>2220</th>\n",
       "      <td>-0.200000</td>\n",
       "      <td>0.200000</td>\n",
       "      <td>-0.200000</td>\n",
       "      <td>0.200000</td>\n",
       "      <td>0.200000</td>\n",
       "      <td>-1.0</td>\n",
       "      <td>5.0</td>\n",
       "    </tr>\n",
       "    <tr>\n",
       "      <th>2242</th>\n",
       "      <td>-0.250000</td>\n",
       "      <td>-0.250000</td>\n",
       "      <td>0.000000</td>\n",
       "      <td>-0.250000</td>\n",
       "      <td>-0.250000</td>\n",
       "      <td>1.0</td>\n",
       "      <td>4.0</td>\n",
       "    </tr>\n",
       "  </tbody>\n",
       "</table>\n",
       "<p>273 rows × 7 columns</p>\n",
       "</div>"
      ],
      "text/plain": [
       "        legend    colour      axes  element_sizes  readability  winners  \\\n",
       "16    0.200000  0.200000 -0.200000      -0.200000    -0.200000      1.0   \n",
       "18    0.200000  0.200000 -0.200000      -0.200000    -0.200000      1.0   \n",
       "55   -0.333333  0.000000 -0.333333       0.333333     0.000000      1.0   \n",
       "57   -0.333333  0.000000  0.333333       0.333333     0.000000     -1.0   \n",
       "76    0.000000  0.000000  0.000000      -1.000000     0.000000      1.0   \n",
       "...        ...       ...       ...            ...          ...      ...   \n",
       "2195 -0.200000  0.200000 -0.200000       0.200000     0.200000     -1.0   \n",
       "2204 -0.333333  0.000000 -0.333333       0.000000    -0.333333      1.0   \n",
       "2207  0.000000 -0.333333 -0.333333       0.000000    -0.333333      1.0   \n",
       "2220 -0.200000  0.200000 -0.200000       0.200000     0.200000     -1.0   \n",
       "2242 -0.250000 -0.250000  0.000000      -0.250000    -0.250000      1.0   \n",
       "\n",
       "      points  \n",
       "16       5.0  \n",
       "18       5.0  \n",
       "55       3.0  \n",
       "57       3.0  \n",
       "76       1.0  \n",
       "...      ...  \n",
       "2195     5.0  \n",
       "2204     3.0  \n",
       "2207     3.0  \n",
       "2220     5.0  \n",
       "2242     4.0  \n",
       "\n",
       "[273 rows x 7 columns]"
      ]
     },
     "execution_count": 283,
     "metadata": {},
     "output_type": "execute_result"
    }
   ],
   "source": [
    "df_lw"
   ]
  },
  {
   "cell_type": "code",
   "execution_count": 392,
   "metadata": {},
   "outputs": [],
   "source": [
    "# count of categories for lucky winners\n",
    "counts = []\n",
    "for cat in categories:\n",
    "    c = 0\n",
    "    for i, row in df_lw.iterrows():\n",
    "        if row['winners'] > 0 and row[cat]<0:\n",
    "            c+=abs(row[cat])\n",
    "        elif row['winners'] < 0 and row[cat]>0:\n",
    "            c+=abs(row[cat])\n",
    "    counts.append(c)"
   ]
  },
  {
   "cell_type": "code",
   "execution_count": 292,
   "metadata": {},
   "outputs": [
    {
     "data": {
      "text/plain": [
       "<BarContainer object of 5 artists>"
      ]
     },
     "execution_count": 292,
     "metadata": {},
     "output_type": "execute_result"
    },
    {
     "data": {
      "image/png": "[encoded data removed]",
      "text/plain": [
       "<Figure size 432x288 with 1 Axes>"
      ]
     },
     "metadata": {
      "needs_background": "light"
     },
     "output_type": "display_data"
    }
   ],
   "source": [
    "plt.bar(categories, counts)"
   ]
  },
  {
   "cell_type": "code",
   "execution_count": null,
   "metadata": {},
   "outputs": [],
   "source": []
  }
 ],
 "metadata": {
  "kernelspec": {
   "display_name": "Python [conda env:project1]",
   "language": "python",
   "name": "conda-env-project1-py"
  },
  "language_info": {
   "codemirror_mode": {
    "name": "ipython",
    "version": 3
   },
   "file_extension": ".py",
   "mimetype": "text/x-python",
   "name": "python",
   "nbconvert_exporter": "python",
   "pygments_lexer": "ipython3",
   "version": "3.8.5"
  }
 },
 "nbformat": 4,
 "nbformat_minor": 4
}
