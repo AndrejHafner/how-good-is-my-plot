{
  "nbformat": 4,
  "nbformat_minor": 0,
  "metadata": {
    "colab": {
      "name": "plot_quality_finetuning.ipynb",
      "provenance": []
    },
    "kernelspec": {
      "name": "python3",
      "display_name": "Python 3"
    },
    "language_info": {
      "name": "python"
    },
    "accelerator": "GPU"
  },
  "cells": [
    {
      "cell_type": "code",
      "metadata": {
        "colab": {
          "base_uri": "https://localhost:8080/"
        },
        "id": "FeL7PD6gKIaY",
        "outputId": "3c6c98d9-23b0-45d9-eeab-4d24db223b46"
      },
      "source": [
        "from google.colab import drive\n",
        "drive.mount('/content/drive', force_remount=True)"
      ],
      "execution_count": 1,
      "outputs": [
        {
          "output_type": "stream",
          "text": [
            "Mounted at /content/drive\n"
          ],
          "name": "stdout"
        }
      ]
    },
    {
      "cell_type": "code",
      "metadata": {
        "colab": {
          "base_uri": "https://localhost:8080/"
        },
        "id": "kQenPyNUL_8U",
        "outputId": "297c1f54-3e23-41aa-b65b-7b32bdc6cbe4"
      },
      "source": [
        "%tensorflow_version 2.x\n",
        "import tensorflow as tf\n",
        "import torch\n",
        "device_name = tf.test.gpu_device_name()\n",
        "if device_name != '/device:GPU:0':\n",
        "  raise SystemError('GPU device not found')\n",
        "print('Found GPU at: {}'.format(device_name))"
      ],
      "execution_count": 2,
      "outputs": [
        {
          "output_type": "stream",
          "text": [
            "Found GPU at: /device:GPU:0\n"
          ],
          "name": "stdout"
        }
      ]
    },
    {
      "cell_type": "code",
      "metadata": {
        "colab": {
          "base_uri": "https://localhost:8080/"
        },
        "id": "oJHxiqdXMG8h",
        "outputId": "8f893699-d9f7-4121-cf6a-c03b0c3458a9"
      },
      "source": [
        "from drive.MyDrive.how_good_is_my_plot.fine_tune_for_plots import train_model, initialize_model\n",
        "from drive.MyDrive.how_good_is_my_plot.regression_dataset import RegressionDataset\n",
        "\n",
        "from __future__ import print_function\n",
        "from __future__ import division\n",
        "\n",
        "import torch\n",
        "import torch.nn as nn\n",
        "import torch.optim as optim\n",
        "from torchvision import datasets, models, transforms\n",
        "import time\n",
        "import os\n",
        "import copy\n",
        "\n",
        "# The split we are training and testing on\n",
        "split = 1\n",
        "\n",
        "# Data directory on which you want to train the model\n",
        "data_dir = f\"drive/MyDrive/how_good_is_my_plot/final_splits/split{split}\"\n",
        "# Number of classes in the dataset\n",
        "num_classes = 1\n",
        "\n",
        "# Batch size for training (change depending on how much memory you have)\n",
        "batch_size = 10\n",
        "\n",
        "# Number of epochs to train for  -> can leave this on 50 - the model with best validation accuracy will be saved.\n",
        "num_epochs = 50\n",
        "\n",
        "# Initialize the model for this run\n",
        "input_size = 224\n",
        "model_ft = initialize_model(num_classes, use_pretrained=True)\n",
        "\n",
        "# Resizing and normalizing data\n",
        "data_transforms = {\n",
        "    'train': transforms.Compose([\n",
        "        transforms.Resize((input_size, input_size)),\n",
        "        transforms.ToTensor(),\n",
        "        transforms.Normalize([0.485, 0.456, 0.406], [0.229, 0.224, 0.225])\n",
        "    ]),\n",
        "    'val': transforms.Compose([\n",
        "        transforms.Resize((input_size, input_size)),\n",
        "        transforms.ToTensor(),\n",
        "        transforms.Normalize([0.485, 0.456, 0.406], [0.229, 0.224, 0.225])\n",
        "    ]),\n",
        "}\n",
        "\n",
        "print(\"Initializing Datasets and Dataloaders...\")\n",
        "\n",
        "# Create training and validation datasets\n",
        "image_datasets = {x: RegressionDataset(os.path.join(data_dir, x), os.path.join(data_dir, x, 'split_scores_elo.csv'),\n",
        "                                        data_transforms[x]) for x in ['train', 'val']}\n",
        "\n",
        "# Create training and validation dataloaders\n",
        "dataloaders_dict = {\n",
        "    x: torch.utils.data.DataLoader(image_datasets[x], batch_size=batch_size, shuffle=True, num_workers=2) for x in\n",
        "    ['train', 'val']}\n",
        "\n",
        "# Detect if we have a GPU available\n",
        "device = torch.device(\"cuda:0\" if torch.cuda.is_available() else \"cpu\")\n",
        "\n",
        "# Send the model to GPU\n",
        "model_ft = model_ft.to(device)\n",
        "\n",
        "params_to_update = model_ft.parameters()\n",
        "\n",
        "# you can change learning rate here\n",
        "learning_rate = 0.0001\n",
        "optimizer_ft = optim.Adam(params_to_update, lr=learning_rate)\n",
        "\n",
        "# Setup the loss fxn\n",
        "criterion = nn.MSELoss()\n",
        "\n",
        "# Train and evaluate\n",
        "model_ft = train_model(model_ft, dataloaders_dict, criterion, optimizer_ft, device, num_epochs=num_epochs, regression=True)\n",
        "\n",
        "torch.save(model_ft.state_dict(), f\"drive/MyDrive/how_good_is_my_plot/cnn_weights/resnet101_quality.pth\")"
      ],
      "execution_count": null,
      "outputs": [
        {
          "output_type": "stream",
          "text": [
            "Initializing Datasets and Dataloaders...\n",
            "Epoch 0/49\n",
            "----------\n",
            "train Loss: 159.8606\n",
            "val Loss: 8.9344\n",
            "\n",
            "Epoch 1/49\n",
            "----------\n",
            "train Loss: 134.3601\n",
            "val Loss: 159.1038\n",
            "\n",
            "Epoch 2/49\n",
            "----------\n",
            "train Loss: 119.1684\n",
            "val Loss: 327.7380\n",
            "\n",
            "Epoch 3/49\n",
            "----------\n",
            "train Loss: 114.3477\n",
            "val Loss: 160.8132\n",
            "\n",
            "Epoch 4/49\n",
            "----------\n",
            "train Loss: 94.5583\n",
            "val Loss: 45.1211\n",
            "\n",
            "Epoch 5/49\n",
            "----------\n",
            "train Loss: 87.1248\n",
            "val Loss: 121.6965\n",
            "\n",
            "Epoch 6/49\n",
            "----------\n",
            "train Loss: 71.7495\n",
            "val Loss: 50.6224\n",
            "\n",
            "Epoch 7/49\n",
            "----------\n",
            "train Loss: 57.6994\n",
            "val Loss: 72.9950\n",
            "\n",
            "Epoch 8/49\n",
            "----------\n",
            "train Loss: 47.6591\n",
            "val Loss: 26.8233\n",
            "\n",
            "Epoch 9/49\n",
            "----------\n",
            "train Loss: 37.3017\n",
            "val Loss: 228.0837\n",
            "\n",
            "Epoch 10/49\n",
            "----------\n",
            "train Loss: 35.5731\n",
            "val Loss: 54.2700\n",
            "\n",
            "Epoch 11/49\n",
            "----------\n",
            "train Loss: 30.7396\n",
            "val Loss: 75.6488\n",
            "\n",
            "Epoch 12/49\n",
            "----------\n",
            "train Loss: 27.1768\n",
            "val Loss: 48.0272\n",
            "\n",
            "Epoch 13/49\n",
            "----------\n",
            "train Loss: 23.9363\n",
            "val Loss: 44.3385\n",
            "\n",
            "Epoch 14/49\n",
            "----------\n",
            "train Loss: 31.0417\n",
            "val Loss: 51.9423\n",
            "\n",
            "Epoch 15/49\n",
            "----------\n",
            "train Loss: 22.3026\n",
            "val Loss: 33.0168\n",
            "\n",
            "Epoch 16/49\n",
            "----------\n",
            "train Loss: 17.8015\n",
            "val Loss: 57.0293\n",
            "\n",
            "Epoch 17/49\n",
            "----------\n",
            "train Loss: 25.9379\n",
            "val Loss: 29.3402\n",
            "\n",
            "Epoch 18/49\n",
            "----------\n",
            "train Loss: 53.0120\n",
            "val Loss: 192.1927\n",
            "\n",
            "Epoch 19/49\n",
            "----------\n",
            "train Loss: 40.4434\n",
            "val Loss: 106.7317\n",
            "\n",
            "Epoch 20/49\n",
            "----------\n",
            "train Loss: 26.8765\n",
            "val Loss: 85.9291\n",
            "\n",
            "Epoch 21/49\n",
            "----------\n",
            "train Loss: 27.3085\n"
          ],
          "name": "stdout"
        }
      ]
    }
  ]
}